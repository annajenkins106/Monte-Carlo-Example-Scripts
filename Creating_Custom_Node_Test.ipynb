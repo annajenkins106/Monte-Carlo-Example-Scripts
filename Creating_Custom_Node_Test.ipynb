{
  "nbformat": 4,
  "nbformat_minor": 0,
  "metadata": {
    "colab": {
      "provenance": [],
      "authorship_tag": "ABX9TyOMePRjoug7jYFVr7JkzDQ1",
      "include_colab_link": true
    },
    "kernelspec": {
      "name": "python3",
      "display_name": "Python 3"
    },
    "language_info": {
      "name": "python"
    }
  },
  "cells": [
    {
      "cell_type": "markdown",
      "metadata": {
        "id": "view-in-github",
        "colab_type": "text"
      },
      "source": [
        "<a href=\"https://colab.research.google.com/github/annajenkins106/custom_lineage_node/blob/main/Creating_Custom_Node_Test.ipynb\" target=\"_parent\"><img src=\"https://colab.research.google.com/assets/colab-badge.svg\" alt=\"Open In Colab\"/></a>"
      ]
    },
    {
      "cell_type": "markdown",
      "source": [],
      "metadata": {
        "id": "dB5Jur0Yt5VU"
      }
    },
    {
      "cell_type": "code",
      "execution_count": null,
      "metadata": {
        "id": "XhTvCa5otg7e"
      },
      "outputs": [],
      "source": [
        "!pip install gql\n",
        "!pip install pycarlo\n",
        "!pip install requests_toolbelt"
      ]
    },
    {
      "cell_type": "code",
      "source": [
        "# Get gql, a GraphQL package for Python, if you don't already have it:\n",
        "# https://github.com/graphql-python/gql\n",
        "\n",
        "from gql import gql, Client\n",
        "from gql.transport.requests import RequestsHTTPTransport\n",
        "from string import Template\n",
        "import json\n",
        "from collections import Counter\n",
        "import pycarlo"
      ],
      "metadata": {
        "id": "O9EeqcbluDHL"
      },
      "execution_count": null,
      "outputs": []
    },
    {
      "cell_type": "code",
      "source": [
        "# Add your Monte Carlo API key (x-mcd-id, x-mcd-token)\n",
        "x_mcd_id = \"mcd_key_id\" #replace with your own values\n",
        "x_mcd_token = \"mcd_secret\" #replace with your own values"
      ],
      "metadata": {
        "id": "VGz9J4J-uEGT"
      },
      "execution_count": null,
      "outputs": []
    },
    {
      "cell_type": "code",
      "source": [
        "#create client call\n",
        "client = Client(transport=RequestsHTTPTransport(\n",
        "   url='https://api.getmontecarlo.com/graphql',\n",
        "   headers={\"x-mcd-id\": x_mcd_id, \"x-mcd-token\": x_mcd_token}))"
      ],
      "metadata": {
        "id": "10oiF9N4vvuR"
      },
      "execution_count": null,
      "outputs": []
    },
    {
      "cell_type": "code",
      "source": [
        "# This query pulls your DWH UUID which will be used throughout\n",
        "## this script as a value passed in API call parameters.\n",
        "\n",
        "\n",
        "query_1 = gql(\n",
        "   \"\"\"\n",
        "   query {\n",
        "     getUser{\n",
        "       account{\n",
        "         warehouses{\n",
        "           name\n",
        "           uuid\n",
        "         }\n",
        "         bi {\n",
        "           uuid\n",
        "         }\n",
        "       }\n",
        "     }\n",
        "   }\n",
        "\n",
        "\n",
        "\"\"\"\n",
        ")\n",
        "\n",
        "\n",
        "# Execute the query on the transport\n",
        "result_1 = client.execute(query_1)\n",
        "print(result_1)"
      ],
      "metadata": {
        "id": "BuCamJ1Rv0CF"
      },
      "execution_count": null,
      "outputs": []
    },
    {
      "cell_type": "code",
      "source": [
        "#Variables for the query\n",
        "assetName = \"asset_name\" #replace this value with the target asset name - e.g. table name\n",
        "objectType = \"table\" #replace this value with the target asset object type - this is typically a table."
      ],
      "metadata": {
        "id": "5vgIrd3K0agB"
      },
      "execution_count": null,
      "outputs": []
    },
    {
      "cell_type": "code",
      "source": [
        "## this script as a value passed in API call parameters.\n",
        "query_1 = gql(\n",
        "     Template(\n",
        "   \"\"\"\n",
        "query Search{\n",
        " search(\n",
        "   limit:100,\n",
        "   objectTypes:[\"$objectType\"],\n",
        "   query:\"$assetName\",\n",
        "   offset:0\n",
        " ) {\n",
        "   results {\n",
        "     displayName\n",
        "     objectId\n",
        "     objectType\n",
        "     resourceId\n",
        "   }\n",
        "   totalHits\n",
        " }\n",
        "}\n",
        "\n",
        "\n",
        "\"\"\"\n",
        " ).substitute(\n",
        "   assetName = assetName,\n",
        "   objectType = objectType\n",
        " )\n",
        ")\n",
        "\n",
        "\n",
        "# Execute the query on the transport\n",
        "result_1 = client.execute(query_1)\n",
        "print(result_1)\n"
      ],
      "metadata": {
        "id": "ZX6uD2SD1M-T"
      },
      "execution_count": null,
      "outputs": []
    },
    {
      "cell_type": "code",
      "source": [
        "#populate query variables\n",
        "name = \"(ThoughtSpot) Dashboard\" #name for new lineage node - this will be displayed in the lineage\n",
        "objectId = \"schema_name:dashboard\" #object ID for new lineage node (includes schema)\n",
        "objectType = \"custom-bi-report\" #object types can be many values (e.g. table, view, tableau-dashboard), please refer to our docs for full list\n",
        "resourceId = \"warehouse uuid\" #this is the warehouse UUID where you want the node to be created\n",
        "\n",
        "\n",
        "#you can also optionally add extra information about this node\n",
        "propertyName1 = \"Owner\" #this is an example property name\n",
        "propertyValue1 = \"email\" #this is an example property value\n",
        "propertyName2 = \"Description\" #this is an example property name\n",
        "propertyValue2 = \"description of asset\" #this is an example property value\n"
      ],
      "metadata": {
        "id": "TJTtdX8d1gWY"
      },
      "execution_count": null,
      "outputs": []
    },
    {
      "cell_type": "code",
      "source": [
        "#Build you query\n",
        "create_custom_object_query = gql(\n",
        "   Template(\n",
        "       \"\"\"\n",
        "           mutation{\n",
        "             createOrUpdateLineageNode(\n",
        "               name: \"$name\"\n",
        "               objectId: \"$objectId\"\n",
        "               objectType: \"$objectType\"\n",
        "               resourceId: \"$resourceId\"\n",
        "               properties: [\n",
        "                   {\n",
        "                   propertyName: \"$propertyName1\",\n",
        "                   propertyValue: \"$propertyValue1\"\n",
        "                   },\n",
        "                   {\n",
        "                   propertyName: \"$propertyName2\",\n",
        "                   propertyValue: \"$propertyValue2\"\n",
        "                   }\n",
        "               ]\n",
        "             ){\n",
        "               node{\n",
        "                 displayName\n",
        "                 objectType\n",
        "                 mcon\n",
        "               }\n",
        "             }\n",
        "           }\n",
        "       \"\"\"\n",
        "   ).substitute(\n",
        "     resourceId = resourceId,\n",
        "     name = name,\n",
        "     objectId = objectId,\n",
        "     objectType = objectType,\n",
        "     propertyName1 = propertyName1,\n",
        "     propertyValue1 = propertyValue1,\n",
        "     propertyName2 = propertyName2,\n",
        "     propertyValue2 = propertyValue2\n",
        "   )\n",
        ")\n",
        "\n",
        "\n",
        "#Execute the Query\n",
        "create_custom_object_query_result = client.execute(create_custom_object_query)\n",
        "print(json.dumps(create_custom_object_query_result,indent=4))"
      ],
      "metadata": {
        "id": "v-pLD5Q42myg"
      },
      "execution_count": null,
      "outputs": []
    },
    {
      "cell_type": "code",
      "source": [
        "#populate query variables\n",
        "existingObjectId = \"schema:table_name\" #this is the objectId of the existing asset\n",
        "existingObjectType = \"table\" #type of the object you are connecting to\n",
        "newObjectId = \"schema_name:dashboard\" #name for new node - should match what you created earlier\n",
        "newObjectType = \"custom-bi-report\" #objectType of the newly created node - must match what you created\n",
        "resourceId = \"warehouse_uuid\" #warehouse UUID for the lineage node\n",
        "expireAt = \"2099-09-16T00:00:00\" # this defines when the lineage will expire - as in be removed. There are use cases where you want temporary lineage."
      ],
      "metadata": {
        "id": "4N3SuzPb216x"
      },
      "execution_count": null,
      "outputs": []
    },
    {
      "cell_type": "code",
      "source": [
        "#Build you query\n",
        "create_custom_edge_query = gql(\n",
        "   Template(\n",
        "       \"\"\"\n",
        "           mutation{\n",
        "             createOrUpdateLineageEdge(\n",
        "               source: {\n",
        "                 objectId: \"$existingObjectId\"\n",
        "                 objectType: \"$existingObjectType\"\n",
        "                 resourceId: \"$resourceId\"\n",
        "               }\n",
        "               destination: {\n",
        "                 objectId: \"$newObjectId\"\n",
        "                 objectType: \"$newObjectType\"\n",
        "                 resourceId: \"$resourceId\"\n",
        "               }\n",
        "               expireAt: \"$expireAt\"\n",
        "             ){\n",
        "               edge{\n",
        "                 isCustom\n",
        "                 expireAt\n",
        "                 source {\n",
        "                   displayName\n",
        "                   mcon\n",
        "                 }\n",
        "                 destination {\n",
        "                     displayName\n",
        "                     mcon\n",
        "                 }\n",
        "               }\n",
        "             }\n",
        "           }\n",
        "       \"\"\"\n",
        "   ).substitute(\n",
        "     existingObjectId = existingObjectId,\n",
        "     existingObjectType = existingObjectType,\n",
        "     newObjectId = newObjectId,\n",
        "     newObjectType = newObjectType,\n",
        "     resourceId = resourceId,\n",
        "     expireAt = expireAt)\n",
        ")\n",
        "\n",
        "\n",
        "#execute your query\n",
        "create_custom_edge_result = client.execute(create_custom_edge_query)\n",
        "print(json.dumps(create_custom_edge_result,indent=4))"
      ],
      "metadata": {
        "id": "3zRn-GsL4lAX"
      },
      "execution_count": null,
      "outputs": []
    }
  ]
}